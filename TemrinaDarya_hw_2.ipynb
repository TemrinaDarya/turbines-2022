{
  "nbformat": 4,
  "nbformat_minor": 0,
  "metadata": {
    "colab": {
      "provenance": [],
      "authorship_tag": "ABX9TyPPAyn2D4XCSTxyE4qgpsOJ",
      "include_colab_link": true
    },
    "kernelspec": {
      "name": "python3",
      "display_name": "Python 3"
    },
    "language_info": {
      "name": "python"
    }
  },
  "cells": [
    {
      "cell_type": "markdown",
      "metadata": {
        "id": "view-in-github",
        "colab_type": "text"
      },
      "source": [
        "<a href=\"https://colab.research.google.com/github/TemrinaDarya/turbines-2022/blob/hw2/TemrinaDarya_hw_2.ipynb\" target=\"_parent\"><img src=\"https://colab.research.google.com/assets/colab-badge.svg\" alt=\"Open In Colab\"/></a>"
      ]
    },
    {
      "cell_type": "code",
      "execution_count": 1,
      "metadata": {
        "id": "OlQQEIHQdvBx",
        "colab": {
          "base_uri": "https://localhost:8080/"
        },
        "outputId": "8aa19cf2-b619-43fd-8971-9e1b74b24b28"
      },
      "outputs": [
        {
          "output_type": "stream",
          "name": "stdout",
          "text": [
            "Looking in indexes: https://pypi.org/simple, https://us-python.pkg.dev/colab-wheels/public/simple/\n",
            "Collecting iapws\n",
            "  Downloading iapws-1.5.3.tar.gz (111 kB)\n",
            "\u001b[K     |████████████████████████████████| 111 kB 33.8 MB/s \n",
            "\u001b[?25hRequirement already satisfied: scipy>=1.2 in /usr/local/lib/python3.7/dist-packages (from iapws) (1.7.3)\n",
            "Requirement already satisfied: numpy<1.23.0,>=1.16.5 in /usr/local/lib/python3.7/dist-packages (from scipy>=1.2->iapws) (1.21.6)\n",
            "Building wheels for collected packages: iapws\n",
            "  Building wheel for iapws (setup.py) ... \u001b[?25l\u001b[?25hdone\n",
            "  Created wheel for iapws: filename=iapws-1.5.3-py3-none-any.whl size=114282 sha256=395cf0e7dc0bed44daf174efe1a0a0c2f15b3207b114d89a00cc7353d15b8896\n",
            "  Stored in directory: /root/.cache/pip/wheels/31/41/85/a38aabccfd7dea1498653150e52ad2b2d7e3a8199263b8e09a\n",
            "Successfully built iapws\n",
            "Installing collected packages: iapws\n",
            "Successfully installed iapws-1.5.3\n"
          ]
        }
      ],
      "source": [
        "!pip install iapws"
      ]
    },
    {
      "cell_type": "markdown",
      "metadata": {
        "id": "HSI9ItI322iY"
      },
      "source": [
        "Задача 1 Построить график зависимости термического КПД от давления промежуточного перегрева водяного пара для условий примера: Р0=13 МПа; t0=540 °С; Рк=5 кПа. Параметры промперегрева: Рпп=1, 2, 3, 4, 5, 6 МПа; tпп=540 °С."
      ]
    },
    {
      "cell_type": "code",
      "execution_count": null,
      "metadata": {
        "id": "y-v9qFI3vcCn"
      },
      "outputs": [],
      "source": [
        "# Импорты\n",
        "import iapws\n",
        "from iapws import IAPWS97 as gas\n",
        "from typing import Optional, Tuple, List, Union\n",
        "from scipy.optimize import minimize\n",
        "import numpy as np\n",
        "import matplotlib.pyplot as plt"
      ]
    },
    {
      "cell_type": "code",
      "execution_count": null,
      "metadata": {
        "id": "6GXtlBSrvcCo"
      },
      "outputs": [],
      "source": [
        "# Константы\n",
        "MPa = 10 ** 6\n",
        "kPa = 10 ** 3\n",
        "unit = 1 / MPa\n",
        "to_kelvin = lambda x: x + 273.15 if x else None"
      ]
    },
    {
      "cell_type": "code",
      "execution_count": null,
      "metadata": {
        "id": "PEgKBW5lvcCo"
      },
      "outputs": [],
      "source": [
        "# Функции\n",
        "def eff(p_0, t_0, p_k, p_middle, t_middle):\n",
        "    point_0_start = gas(P=p_0 * unit, T=t_0)\n",
        "    point_0_end = gas(P=p_middle * unit, s=point_0_start.s)\n",
        "    point_1_start = gas(P=p_middle * unit, T=t_middle)\n",
        "    point_condenser = gas(P=p_k * unit, s=point_1_start.s)\n",
        "    point_pump = gas(P=p_k * unit, x=0)\n",
        "    useful_energy = (point_0_start.h - point_0_end.h) + (point_1_start.h - point_condenser.h)\n",
        "    full_energy = (point_0_start.h - point_pump.h) + (point_1_start.h - point_0_end.h)\n",
        "    efficiency = round(useful_energy / full_energy * 100, 3)\n",
        "    return efficiency\n"
      ]
    },
    {
      "cell_type": "code",
      "execution_count": null,
      "metadata": {
        "colab": {
          "base_uri": "https://localhost:8080/",
          "height": 312
        },
        "id": "DSWwWgXA2yC0",
        "outputId": "8949c931-4ac0-4a7a-d93d-fe45044b604a"
      },
      "outputs": [
        {
          "output_type": "stream",
          "name": "stdout",
          "text": [
            "Ответ на задачу 2.1 = [44.786, 45.17, 45.222, 45.16, 45.043, 44.897]\n"
          ]
        },
        {
          "output_type": "display_data",
          "data": {
            "text/plain": [
              "<Figure size 432x288 with 1 Axes>"
            ],
            "image/png": "[encoded data removed]"
          },
          "metadata": {
            "needs_background": "light"
          }
        }
      ],
      "source": [
        "#Начальные параметры \n",
        "p_0 = 13 * MPa\n",
        "t_0 = to_kelvin(540)\n",
        "p_k = 5 * kPa\n",
        "p_middle = list(range(1, 7))\n",
        "t_middle = to_kelvin(540)\n",
        "p_middle = [x * 10**6 for x in p_middle]\n",
        "\n",
        "\n",
        "effpp = [eff(p_0, t_0, p_k, pm_value, t_middle) for pm_value in p_middle]\n",
        "\n",
        "print(f'Ответ на задачу 2.1 = {effpp}')\n",
        "\n",
        "plt.plot(p_middle, effpp)\n",
        "plt.grid(True)\n",
        "plt.title('График зависимости термического КПД от Pпп')\n",
        "plt.ylabel('КПД')\n",
        "plt.xlabel('Pпп')\n",
        "plt.show()\n"
      ]
    },
    {
      "cell_type": "markdown",
      "metadata": {
        "id": "OtlP570z3LQd"
      },
      "source": [
        "Задача 2 Написать код для решения задачи оптимизации параметров промежуточного перегрева Pпп и tпп для свободных начальных параметров Р0, t0, Рк. Сделаем допущение, что начальная точка процесса расширения всегда находится в зоне перегретого пара. Решение должно выдавать параметры промежуточного перегрева и термический КПД при них."
      ]
    },
    {
      "cell_type": "code",
      "execution_count": null,
      "metadata": {
        "id": "tK6mMucxvcCr"
      },
      "outputs": [],
      "source": [
        "def construct_cycle_points(p0, pk, p_middle, t0=None, x0=None, t_middle=None):\n",
        "    if not t0 and not x0:\n",
        "        raise ValueError(\"Необходимо задать t_0 или x_0\")\n",
        "    if not (p0 and pk):\n",
        "        raise ValueError(\"P_0 и p_k должны быть заданы\")\n",
        "    if x0 and (x0 > 1 or x0 < 0):\n",
        "        raise ValueError(\"x_0 должен быть в промежутке от 0 до 1\")\n",
        "\n",
        "    point_0_start = gas(P=p0 * unit, T=t0)\n",
        "    point_0_end = gas(P=p_middle * unit, s=point_0_start.s)\n",
        "    point_1_start = gas(P=p_middle * unit, T=t_middle)\n",
        "    point_condenser = gas(P=pk * unit, s=point_1_start.s)\n",
        "    point_pump = gas(P=pk * unit, x=0)\n",
        "\n",
        "    return point_0_start, point_0_end, point_1_start, point_condenser, point_pump\n",
        "\n",
        "\n",
        "def solve_exercise(p0, pk, p_middle, t0=None, x0=None, t_middle=None):\n",
        "    point_0_start, point_0_end, point_1_start, point_condenser, point_pump = construct_cycle_points(\n",
        "        p0=p0, pk=pk, p_middle=p_middle, t0=to_kelvin(t0), t_middle=to_kelvin(t_middle), x0=x0)\n",
        "\n",
        "    efficiency = compute_cycle_efficiency(point_0_start=point_0_start, point_0_end=point_0_end,\n",
        "                                          point_1_start=point_1_start, point_condenser=point_condenser,\n",
        "                                          point_pump=point_pump)\n",
        "\n",
        "    return efficiency\n",
        "\n",
        "\n",
        "def optimal_params(p0, t0, pk):\n",
        "    def loss_function(middle_params):\n",
        "        p_div_p_0 = middle_params[0]\n",
        "        t_div_t_0 = middle_params[1]\n",
        "        p_middle = p0 * p_div_p_0\n",
        "        t_middle = t0 * t_div_t_0\n",
        "        efficiency = solve_exercise(p0, pk, p_middle, t0=t0, t_middle=t_middle)\n",
        "        return 1 - efficiency\n",
        "\n",
        "    initial_params = np.array([0.5, 0.5])\n",
        "    bounds = ([0.01, 1], [0.01, 1])\n",
        "\n",
        "    result = minimize(loss_function, x0=initial_params, bounds=bounds, tol=1e-8)\n",
        "\n",
        "    p_div_p_0, t_div_t_0 = result.x\n",
        "    p_middle = p_div_p_0 * p0\n",
        "    t_middle = t_div_t_0 * t0\n",
        "\n",
        "    return p_middle, t_middle\n",
        "\n",
        "\n",
        "def compute_cycle_efficiency(point_0_start, point_0_end, point_1_start, point_condenser, point_pump):\n",
        "    useful_energy = (point_0_start.h - point_0_end.h) + (point_1_start.h - point_condenser.h)\n",
        "    full_energy = (point_0_start.h - point_pump.h) + (point_1_start.h - point_0_end.h)\n",
        "    efficiency = useful_energy / full_energy\n",
        "    return efficiency\n"
      ]
    },
    {
      "cell_type": "code",
      "execution_count": null,
      "metadata": {
        "colab": {
          "base_uri": "https://localhost:8080/"
        },
        "id": "4a9938D73iNO",
        "outputId": "4215f7e5-72ca-4a2a-f773-1f6869e7c782"
      },
      "outputs": [
        {
          "output_type": "stream",
          "name": "stdout",
          "text": [
            "Pпп = 3.449 MPa\n",
            "tпп =  514.0 C\n"
          ]
        }
      ],
      "source": [
        "# Начальные параметры \n",
        "p0 = 14 * MPa\n",
        "t0 = 514\n",
        "pk = 4 * kPa\n",
        "\n",
        "p_middle, t_middle = optimal_params(p0, t0, pk)\n",
        "print(f\"Pпп = {round(p_middle * unit, 3)} MPa\")\n",
        "print(\"tпп = \", t_middle, \"C\")\n"
      ]
    },
    {
      "cell_type": "markdown",
      "metadata": {
        "id": "qSg3d1YW3jOf"
      },
      "source": [
        "Задача 3 При удельных расходах водяного пара d01 = 3,0 кг/(кВт·ч) и d02 = 3,6 кг/(кВт·ч) оценить удельные расходы теплоты на выработку электроэнергии, приняв разность энтальпий h0 – hпв = 2500 кДж/кг."
      ]
    },
    {
      "cell_type": "code",
      "execution_count": null,
      "metadata": {
        "colab": {
          "base_uri": "https://localhost:8080/"
        },
        "id": "MbI5DqoM3w_s",
        "outputId": "e2a7125d-3f5f-4575-9e4e-4cb254b22247"
      },
      "outputs": [
        {
          "output_type": "stream",
          "name": "stdout",
          "text": [
            "Ответ на задачу 2.3 = 7500 и 9000.0\n"
          ]
        }
      ],
      "source": [
        "d01 = 3\n",
        "d02 = 3.6\n",
        "q1 = 2500\n",
        "\n",
        "# удельные расходы теплоты\n",
        "q_1 = d01 * q1 \n",
        "q_2 = d02 * q1\n",
        "print(f'Ответ на задачу 2.3 = {q_1} и {q_2}')"
      ]
    }
  ]
}