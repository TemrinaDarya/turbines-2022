{
  "nbformat": 4,
  "nbformat_minor": 0,
  "metadata": {
    "colab": {
      "provenance": [],
      "authorship_tag": "ABX9TyMA/TwWgot04oa3qm7fVNU6",
      "include_colab_link": true
    },
    "kernelspec": {
      "name": "python3",
      "display_name": "Python 3"
    },
    "language_info": {
      "name": "python"
    }
  },
  "cells": [
    {
      "cell_type": "markdown",
      "metadata": {
        "id": "view-in-github",
        "colab_type": "text"
      },
      "source": [
        "<a href=\"https://colab.research.google.com/github/TemrinaDarya/turbines-2022/blob/hw-5/TemrinaDarya_hw5_1.ipynb\" target=\"_parent\"><img src=\"https://colab.research.google.com/assets/colab-badge.svg\" alt=\"Open In Colab\"/></a>"
      ]
    },
    {
      "cell_type": "markdown",
      "metadata": {
        "id": "ucaQ86s4SGB_"
      },
      "source": [
        "Оценить расходы в цилиндр высокого давления и в конденсатор турбины без промежуточного перегрева пара.\n",
        "\n",
        "Заданные параметры:\n",
        "\n",
        "1.  Номинальная электрическая мощность: 250 МВт\n",
        "2.  Начальное давление свежего пара: 12.8 МПа\n",
        "1.  Начальная температура свежего пара: 540 C\n",
        "2.  Конечное давление пара: 6.9 кПа\n",
        "1.  Температура питательной воды: 263 C\n",
        "2.  Число отборов: 8\n",
        "1.  Механическое КПД: 99.2%\n",
        "2.  КПД Электрогенератора: 99%\n"
      ]
    },
    {
      "cell_type": "code",
      "execution_count": null,
      "metadata": {
        "id": "WonvcGVwR5k3"
      },
      "outputs": [],
      "source": [
        "!pip install iapws\n",
        "\n",
        "from iapws import IAPWS97 as gas\n",
        "\n",
        "MPa = 10 ** 6\n",
        "kPa = 10 ** 3\n",
        "unit = 1 / MPa\n",
        "to_kelvin = lambda x: x + 273.15 if x else None"
      ]
    },
    {
      "cell_type": "code",
      "execution_count": 2,
      "metadata": {
        "id": "0QSp1EBrSBrX"
      },
      "outputs": [],
      "source": [
        "electrical_power = 250 * (10 ** 6)\n",
        "p0 = 12.8 * MPa\n",
        "t0 = 540\n",
        "p_middle = 2.49 * MPa\n",
        "t_middle = 540\n",
        "pk = 6.9 * kPa\n",
        "t_feed_water = 263\n",
        "p_feed_water = 1.4 * p0\n",
        "z = 8\n",
        "\n",
        "internal_efficiency = 0.85\n",
        "mechanical_efficiency = 0.992\n",
        "generator_efficiency = 0.99"
      ]
    },
    {
      "cell_type": "code",
      "execution_count": 3,
      "metadata": {
        "id": "g3bSSU-3cZZY"
      },
      "outputs": [],
      "source": [
        "delta_p0 = 0.05 * p0\n",
        "real_p0 = p0 - delta_p0\n",
        "point_00 = gas(P=p0 * unit, T=to_kelvin(t0))\n",
        "point_0 = gas(P=real_p0 * unit, h=point_00.h)\n",
        "point_feed_water = gas(P=p_feed_water * unit, T=to_kelvin(t_feed_water))\n",
        "point_k0 = gas(P=pk * unit, s=point_00.s)\n",
        "H_0 = point_0.h - point_k0.h\n",
        "H_i = H_0 * internal_efficiency\n",
        "h_k = point_0.h - H_i\n",
        "point_k = gas(P=pk * unit, h=h_k)\n",
        "point_k_water = gas(P=pk * unit, x=0)\n",
        "\n",
        "T_s = gas(P=p0 * unit, x=0).T\n",
        "Ksi = (point_feed_water.T - point_k.T) / (T_s - point_k.T)\n"
      ]
    },
    {
      "cell_type": "code",
      "execution_count": 4,
      "metadata": {
        "id": "WsjAzuyOcZZb"
      },
      "outputs": [],
      "source": [
        "def count_ksi(point_0, point_k, point_k_water, point_feed_water):\n",
        "    numerator_without = (point_00.s - point_k_water.s) * point_k.T\n",
        "    denumerator_without = point_0.h - point_k_water.h\n",
        "    without_part = 1 - (numerator_without / denumerator_without)\n",
        "\n",
        "    numerator_infinity = (point_00.s - point_feed_water.s) * point_k.T\n",
        "    denumerator_infinity = point_0.h- point_feed_water.h\n",
        "    infinity_part = 1 - (numerator_infinity / denumerator_infinity)\n",
        "\n",
        "    ksi_infinity = 1 - (without_part / infinity_part)\n",
        "    ksi = 0.93 * ksi_infinity\n",
        "\n",
        "    return ksi\n",
        "\n",
        "\n",
        "def count_inlet_mass_flow(electrical_power, estimated_heat_drop, mechanical_efficiency, generator_efficiency):\n",
        "    inlet_mass_flow = electrical_power / (estimated_heat_drop * 1000 * mechanical_efficiency * generator_efficiency)\n",
        "    return inlet_mass_flow\n",
        "\n",
        "\n",
        "def count_condenser_mass_flow(efficiency, electrical_power, point_k, point_k_water):\n",
        "    condenser_mass_flow = (electrical_power / (\n",
        "            (point_k.h - point_k_water.h) * 1000 * mechanical_efficiency * generator_efficiency) * (\n",
        "                                   (1 / efficiency) - 1))\n",
        "    return condenser_mass_flow\n",
        "\n",
        "\n",
        "def count_inlet_and_condenser_mass_flow(point_0, point_k, point_k_water, point_feed_water, H_i):\n",
        "    ksi = count_ksi(point_0, point_k, point_k_water, point_feed_water)\n",
        "    eff_denum = point_0.h - point_k_water.h\n",
        "\n",
        "    efficiency = (H_i / eff_denum) * (1 / (1 - ksi))\n",
        "    estimated_heat_drop = efficiency * (point_0.h - point_feed_water.h)\n",
        "    inlet_mass_flow = count_inlet_mass_flow(electrical_power, estimated_heat_drop, mechanical_efficiency,\n",
        "                                            generator_efficiency)\n",
        "    condenser_mass_flow = count_condenser_mass_flow(efficiency, electrical_power, point_k, point_k_water)\n",
        "    return inlet_mass_flow, condenser_mass_flow"
      ]
    },
    {
      "cell_type": "code",
      "execution_count": null,
      "metadata": {
        "id": "XJSbeOBSTLkd"
      },
      "outputs": [],
      "source": [
        "inlet_mass_flow, condenser_mass_flow = count_inlet_and_condenser_mass_flow(\n",
        "    point_0, point_k, point_k_water, point_feed_water, H_i)\n",
        "\n",
        "print(\"Массовый расход в турбину на входе\", inlet_mass_flow)\n",
        "print(\"Массовый расход в конденсатор:\", condenser_mass_flow)\n"
      ]
    }
  ]
}