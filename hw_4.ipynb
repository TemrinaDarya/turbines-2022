{
  "nbformat": 4,
  "nbformat_minor": 0,
  "metadata": {
    "colab": {
      "provenance": [],
      "authorship_tag": "ABX9TyNL6CJ2kFmawuKsAj3YrXsQ",
      "include_colab_link": true
    },
    "kernelspec": {
      "name": "python3",
      "display_name": "Python 3"
    },
    "language_info": {
      "name": "python"
    }
  },
  "cells": [
    {
      "cell_type": "markdown",
      "metadata": {
        "id": "view-in-github",
        "colab_type": "text"
      },
      "source": [
        "<a href=\"https://colab.research.google.com/github/TemrinaDarya/turbines-2022/blob/hw-4/hw_4.ipynb\" target=\"_parent\"><img src=\"https://colab.research.google.com/assets/colab-badge.svg\" alt=\"Open In Colab\"/></a>"
      ]
    },
    {
      "cell_type": "markdown",
      "metadata": {
        "id": "f_B4AKRBIRd_"
      },
      "source": [
        "По аналогии с решением задач из практики, построить график зависимости $\\eta_{oi} = f(H_0)$ в диапазоне $H_0$ = (50 - 150) $\\frac {kJ}{kg}$. $\\eta_{ол}$ = 78%. $u = 160 m/s$. Все остальные переменные и условия принять такие же как на практическом заняти."
      ]
    },
    {
      "cell_type": "code",
      "execution_count": null,
      "metadata": {
        "id": "tytaBfjYXNfG"
      },
      "outputs": [],
      "source": [
        "!pip install iapws\n",
        "\n",
        "import iapws\n",
        "from iapws import IAPWS97 as gas\n",
        "import math\n",
        "import matplotlib.pyplot as plt\n",
        "import numpy as np\n",
        "\n",
        "MPa = 10 ** 6\n",
        "kPa = 10 ** 3\n",
        "unit = 1 / MPa\n",
        "to_kelvin = lambda x: x + 273.15 if x else None\n",
        "\n"
      ]
    },
    {
      "cell_type": "code",
      "execution_count": 2,
      "metadata": {
        "id": "FbWqsgyJQVDc"
      },
      "outputs": [],
      "source": [
        "#Исходные данные\n",
        "p = 5 * MPa\n",
        "t = to_kelvin(489)\n",
        "H_0 = range(50,150)\n",
        "u = 160\n",
        "F1 = 0.025\n",
        "d_r = 1.09\n",
        "s_div_r = 0.2 \n",
        "degree__of_reaction = 0.1\n",
        "z_bandage = 2\n",
        "delta_r_bandage = 1.17 / 1000\n",
        "delta_a_bandage = 4 / 1000\n",
        "z_rotor = 5\n",
        "d_leak_rotor = 0.36\n",
        "delta_leak_rotor = 0.4 / 1000\n",
        "e = 0.8\n",
        "sin_alpha_1 = 0.225\n",
        "blade_width = 0.035\n",
        "blade_length = 0.035\n",
        "blade_efficiency = 0.78\n",
        "segments = 4\n",
        "m = 1\n",
        "k = 0.065\n",
        "mu_a = 0.5 \n",
        "mu_r = 0.8 \n",
        "K_y = 1 \n",
        "mu_r_rotor = 0.8\n",
        "mu_nozzle = 0.97 \n",
        "\n",
        "point = gas(P=p * unit, T=t)\n",
        "kinematic_viscosity = point.nu "
      ]
    },
    {
      "cell_type": "code",
      "execution_count": 3,
      "metadata": {
        "id": "EmQwFMR3JFCc"
      },
      "outputs": [],
      "source": [
        "def get_Re_number(u, d_r):\n",
        "    Re_number = u * d_r * 0.5 / kinematic_viscosity\n",
        "    return Re_number\n",
        "\n",
        "\n",
        "def get_k_frictions(s_div_r, Re_number):\n",
        "    k_f = 2.5 * 10 ** (-2) * s_div_r ** 0.1 * Re_number ** (-0.2)\n",
        "    return k_f\n",
        "\n",
        "\n",
        "def get_friction_loss_pu(k_f, d_r, u_div_dummy_speed, F1):\n",
        "    friction_loss_pu = k_f * d_r ** 2 * u_div_dummy_speed ** 3 / F1\n",
        "    return friction_loss_pu\n",
        "\n",
        "\n",
        "def get_ventilation_loss_pu(m, k, sin_alpha_1, e, u_div_dummy_speed):\n",
        "    first = k / sin_alpha_1\n",
        "    second = (1 - e) / e\n",
        "    third = u_div_dummy_speed ** 3\n",
        "    ventilation_loss_pu = first * second * third * m\n",
        "    return ventilation_loss_pu\n",
        "\n",
        "\n",
        "def get_segment_loss_pu(blade_width, blade_length, F1, u_div_dummy_speed, blade_efficiency, segments):\n",
        "    B = blade_width\n",
        "    l = blade_length\n",
        "    F = F1\n",
        "    first = 0.25 * B * l / F\n",
        "    second = u_div_dummy_speed * blade_efficiency * segments\n",
        "    segment_loss_pu = first * second\n",
        "    return segment_loss_pu\n",
        "\n",
        "\n",
        "\n",
        "\n",
        "def compute_equal_gap(z_bandage, delta_r_bandage, mu_r_rotor, delta_a_bandage, mu_a):\n",
        "    z = z_bandage\n",
        "    delta_r = delta_r_bandage\n",
        "    delta_a = delta_a_bandage\n",
        "    first = 1 / (mu_a * delta_a) ** 2\n",
        "    second = z / (mu_r_rotor * delta_r) ** 2\n",
        "    equal_gap = (first + second) ** (-0.5)\n",
        "    return equal_gap\n",
        "\n",
        "\n",
        "def get_bandage_leak_loss_pu(delta_r_bandage, equal_gap, F1, degree__of_reaction, blade_length, blade_efficiency):\n",
        "    l = blade_length\n",
        "    dor = degree__of_reaction\n",
        "    delta_eq = equal_gap\n",
        "    d_shroud = delta_r_bandage / 0.001\n",
        "    d_avg = d_shroud - l\n",
        "    first = math.pi * d_shroud * delta_eq / F1\n",
        "    second = dor + 1.8 * (l / d_avg)\n",
        "    bandage_leak_loss_pu = first * (second) ** 0.5 * blade_efficiency\n",
        "    return bandage_leak_loss_pu\n",
        "\n",
        "\n",
        "def get_disk_leak_loss_pu(K_y, d_leak_rotor, delta_leak_rotor, mu_r, mu_nozzle, F1, z_rotor, blade_efficiency):\n",
        "    F_leak_rotor = math.pi * d_leak_rotor * delta_leak_rotor\n",
        "    upper = mu_r * K_y * F_leak_rotor * blade_efficiency\n",
        "    lower = mu_nozzle * F1 * z_rotor ** 0.5\n",
        "    disk_leak_loss_pu = upper / lower\n",
        "    return disk_leak_loss_pu\n",
        "\n",
        "\n",
        "def count_internal_efficiency(H_value):\n",
        "    H_value = H_value * 1000\n",
        "    dummy_speed = (2 * H_value) ** 0.5\n",
        "    u_div_dummy_speed = u / dummy_speed\n",
        "\n",
        "    Re_number = get_Re_number(u, d_r)\n",
        "    k_f = get_k_frictions(s_div_r, Re_number)\n",
        "    friction_loss_pu = get_friction_loss_pu(k_f, d_r, u_div_dummy_speed, F1)\n",
        "    ventilation_loss_pu = get_ventilation_loss_pu(m, k, sin_alpha_1, e, u_div_dummy_speed)\n",
        "    segment_loss_pu = get_segment_loss_pu(blade_width, blade_length, F1, u_div_dummy_speed, blade_efficiency, segments)\n",
        "    partial_losses_pu = segment_loss_pu + ventilation_loss_pu\n",
        "    equal_gap = compute_equal_gap(z_bandage, delta_r_bandage, mu_r_rotor, delta_a_bandage, mu_a)\n",
        "    disk_leak_loss_pu = get_disk_leak_loss_pu(K_y, d_leak_rotor, delta_leak_rotor, mu_r, mu_nozzle, F1, z_rotor,\n",
        "                                              blade_efficiency)\n",
        "    bandage_leak_loss_pu = get_bandage_leak_loss_pu(delta_r_bandage, equal_gap, F1, degree__of_reaction, blade_length,\n",
        "                                                    blade_efficiency)\n",
        "    leak_losses_pu = disk_leak_loss_pu + bandage_leak_loss_pu\n",
        "    internal_efficiency = blade_efficiency - friction_loss_pu - partial_losses_pu - leak_losses_pu\n",
        "    return internal_efficiency"
      ]
    },
    {
      "cell_type": "code",
      "execution_count": 4,
      "metadata": {
        "id": "7phbnKjiJKAX"
      },
      "outputs": [],
      "source": [
        "internal_efficiencies = []\n",
        "for H_value in H_0:\n",
        "    internal_efficiency = count_internal_efficiency(H_value)\n",
        "    internal_efficiencies.append(internal_efficiency)"
      ]
    },
    {
      "cell_type": "code",
      "execution_count": 5,
      "metadata": {
        "colab": {
          "base_uri": "https://localhost:8080/",
          "height": 296
        },
        "id": "ExGn1NefJKpr",
        "outputId": "14d8e27e-bfaa-48b0-d02d-df1237ddadf3"
      },
      "outputs": [
        {
          "output_type": "display_data",
          "data": {
            "text/plain": [
              "<Figure size 432x288 with 1 Axes>"
            ],
            "image/png": "[encoded data removed]"
          },
          "metadata": {
            "needs_background": "light"
          }
        }
      ],
      "source": [
        "plt.plot(H_0, internal_efficiencies)\n",
        "plt.xlabel('H_0')\n",
        "plt.ylabel('Внутр. отн. КПД η')\n",
        "plt.title(\"Зависимость внутр. отн. КПД от значения H_0\")\n",
        "plt.grid()\n",
        "\n",
        "plt.show()"
      ]
    }
  ]
}